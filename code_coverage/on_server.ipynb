{
 "cells": [
  {
   "cell_type": "code",
   "execution_count": 1,
   "id": "b108498a",
   "metadata": {},
   "outputs": [],
   "source": [
    "from test_atks import test_atks_on_cifar10\n",
    "from test_import import test_import_version"
   ]
  },
  {
   "cell_type": "code",
   "execution_count": 2,
   "id": "3d08de15",
   "metadata": {},
   "outputs": [
    {
     "name": "stdout",
     "output_type": "stream",
     "text": [
      "3.4.0\n"
     ]
    }
   ],
   "source": [
    "test_import_version()"
   ]
  },
  {
   "cell_type": "code",
   "execution_count": 3,
   "id": "2fd7a267",
   "metadata": {},
   "outputs": [],
   "source": [
    "import torchattacks"
   ]
  },
  {
   "cell_type": "code",
   "execution_count": 4,
   "id": "225ce272",
   "metadata": {},
   "outputs": [
    {
     "name": "stdout",
     "output_type": "stream",
     "text": [
      "Files already downloaded and verified\n",
      "VANILA      : clean_acc=1.00 robust_acc=1.00 sec=0.00\n",
      "GN          : clean_acc=1.00 robust_acc=0.00 sec=0.00\n",
      "FGSM        : clean_acc=1.00 robust_acc=0.20 sec=0.02\n",
      "- targeted  : clean_acc=1.00 robust_acc=0.20 sec=0.02\n",
      "BIM         : clean_acc=1.00 robust_acc=0.00 sec=0.10\n",
      "- targeted  : clean_acc=1.00 robust_acc=0.20 sec=0.10\n",
      "RFGSM       : clean_acc=1.00 robust_acc=0.00 sec=0.10\n",
      "- targeted  : clean_acc=1.00 robust_acc=0.20 sec=0.10\n",
      "PGD         : clean_acc=1.00 robust_acc=0.00 sec=0.10\n",
      "- targeted  : clean_acc=1.00 robust_acc=0.00 sec=0.10\n",
      "EOTPGD      : clean_acc=1.00 robust_acc=0.00 sec=0.20\n",
      "- targeted  : clean_acc=1.00 robust_acc=0.20 sec=0.20\n",
      "FFGSM       : clean_acc=1.00 robust_acc=0.20 sec=0.01\n",
      "- targeted  : clean_acc=1.00 robust_acc=0.40 sec=0.01\n",
      "TPGD        : clean_acc=1.00 robust_acc=0.00 sec=0.10\n",
      "MIFGSM      : clean_acc=1.00 robust_acc=0.00 sec=0.10\n",
      "- targeted  : clean_acc=1.00 robust_acc=0.40 sec=0.10\n",
      "UPGD        : clean_acc=1.00 robust_acc=0.00 sec=0.10\n",
      "- targeted  : clean_acc=1.00 robust_acc=0.20 sec=0.10\n",
      "APGD        : clean_acc=1.00 robust_acc=0.00 sec=0.13\n",
      "APGDT       : clean_acc=1.00 robust_acc=0.00 sec=0.16\n",
      "DIFGSM      : clean_acc=1.00 robust_acc=0.00 sec=0.10\n",
      "- targeted  : clean_acc=1.00 robust_acc=0.00 sec=0.10\n",
      "TIFGSM      : clean_acc=1.00 robust_acc=0.20 sec=0.10\n",
      "- targeted  : clean_acc=1.00 robust_acc=0.00 sec=0.10\n",
      "Jitter      : clean_acc=1.00 robust_acc=0.00 sec=0.12\n",
      "- targeted  : clean_acc=1.00 robust_acc=0.20 sec=0.12\n",
      "NIFGSM      : clean_acc=1.00 robust_acc=0.00 sec=0.10\n",
      "- targeted  : clean_acc=1.00 robust_acc=0.40 sec=0.10\n",
      "PGDRS       : clean_acc=1.00 robust_acc=1.00 sec=0.26\n",
      "- targeted  : clean_acc=1.00 robust_acc=1.00 sec=0.26\n",
      "SINIFGSM    : clean_acc=1.00 robust_acc=0.20 sec=0.49\n",
      "- targeted  : clean_acc=1.00 robust_acc=0.40 sec=0.49\n",
      "VMIFGSM     : clean_acc=1.00 robust_acc=0.00 sec=0.59\n",
      "- targeted  : clean_acc=1.00 robust_acc=0.20 sec=0.59\n",
      "VNIFGSM     : clean_acc=1.00 robust_acc=0.00 sec=0.59\n",
      "- targeted  : clean_acc=1.00 robust_acc=0.00 sec=0.59\n",
      "SPSA        : clean_acc=1.00 robust_acc=1.00 sec=0.51\n",
      "- targeted  : clean_acc=1.00 robust_acc=1.00 sec=0.51\n"
     ]
    },
    {
     "name": "stderr",
     "output_type": "stream",
     "text": [
      "C:\\Users\\slcf\\anaconda3\\lib\\site-packages\\torch\\_tensor.py:575: UserWarning: floor_divide is deprecated, and will be removed in a future version of pytorch. It currently rounds toward 0 (like the 'trunc' function NOT 'floor'). This results in incorrect rounding for negative values.\n",
      "To keep the current behavior, use torch.div(a, b, rounding_mode='trunc'), or for actual floor division, use torch.div(a, b, rounding_mode='floor'). (Triggered internally at  ..\\aten\\src\\ATen\\native\\BinaryOps.cpp:467.)\n",
      "  return torch.floor_divide(self, other)\n"
     ]
    },
    {
     "name": "stdout",
     "output_type": "stream",
     "text": [
      "JSMA        : clean_acc=1.00 robust_acc=0.00 sec=23.17\n",
      "- targeted  : clean_acc=1.00 robust_acc=0.20 sec=23.17\n",
      "CW          : clean_acc=1.00 robust_acc=0.00 sec=0.56\n",
      "- targeted  : clean_acc=1.00 robust_acc=0.00 sec=0.56\n",
      "PGDL2       : clean_acc=1.00 robust_acc=0.00 sec=0.10\n",
      "- targeted  : clean_acc=1.00 robust_acc=0.00 sec=0.10\n",
      "DeepFool    : clean_acc=1.00 robust_acc=0.00 sec=0.55\n",
      "PGDRSL2     : clean_acc=1.00 robust_acc=1.00 sec=0.25\n",
      "- targeted  : clean_acc=1.00 robust_acc=1.00 sec=0.25\n",
      "SparseFool  : clean_acc=1.00 robust_acc=1.00 sec=10.43\n",
      "OnePixel    : clean_acc=1.00 robust_acc=1.00 sec=0.51\n",
      "- targeted  : clean_acc=1.00 robust_acc=1.00 sec=0.51\n",
      "Pixle       : clean_acc=1.00 robust_acc=0.20 sec=2.30\n",
      "- targeted  : clean_acc=1.00 robust_acc=0.20 sec=2.30\n",
      "FAB         : clean_acc=1.00 robust_acc=0.00 sec=0.75\n",
      "- targeted  : clean_acc=1.00 robust_acc=0.20 sec=0.75\n",
      "AutoAttack  : clean_acc=1.00 robust_acc=0.00 sec=0.14\n",
      "Square      : clean_acc=1.00 robust_acc=0.00 sec=1.67\n",
      "- targeted  : clean_acc=1.00 robust_acc=0.00 sec=1.67\n"
     ]
    }
   ],
   "source": [
    "for atk_class in [atk_class for atk_class in torchattacks.__all__ if atk_class not in torchattacks.__wrapper__]:\n",
    "    test_atks_on_cifar10(atk_class=atk_class,\n",
    "                         device='cuda',\n",
    "                         model_dir='../demo/models/',\n",
    "                         data_dir='../demo/data/')"
   ]
  }
 ],
 "metadata": {
  "kernelspec": {
   "display_name": "Python 3",
   "language": "python",
   "name": "python3"
  },
  "language_info": {
   "codemirror_mode": {
    "name": "ipython",
    "version": 3
   },
   "file_extension": ".py",
   "mimetype": "text/x-python",
   "name": "python",
   "nbconvert_exporter": "python",
   "pygments_lexer": "ipython3",
   "version": "3.8.8"
  }
 },
 "nbformat": 4,
 "nbformat_minor": 5
}
