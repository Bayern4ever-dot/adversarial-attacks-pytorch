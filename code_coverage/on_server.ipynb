{
 "cells": [
  {
   "cell_type": "code",
   "execution_count": 1,
   "id": "b108498a",
   "metadata": {},
   "outputs": [],
   "source": [
    "from test_atks import test_atks_on_cifar10\n",
    "from test_import import test_import_version"
   ]
  },
  {
   "cell_type": "code",
   "execution_count": 2,
   "id": "3d08de15",
   "metadata": {},
   "outputs": [
    {
     "name": "stdout",
     "output_type": "stream",
     "text": [
      "3.4.0\n"
     ]
    }
   ],
   "source": [
    "test_import_version()"
   ]
  },
  {
   "cell_type": "code",
   "execution_count": 3,
   "id": "2fd7a267",
   "metadata": {},
   "outputs": [],
   "source": [
    "import torchattacks"
   ]
  },
  {
   "cell_type": "code",
   "execution_count": 4,
   "id": "225ce272",
   "metadata": {},
   "outputs": [
    {
     "name": "stdout",
     "output_type": "stream",
     "text": [
      "Files already downloaded and verified\n",
      "VANILA      : clean_acc=1.00 robust_acc=1.00 sec=0.00\n",
      "GN          : clean_acc=1.00 robust_acc=0.00 sec=0.00\n",
      "FGSM        : clean_acc=1.00 robust_acc=0.20 sec=0.02\n",
      "- targeted  : clean_acc=1.00 robust_acc=0.80 sec=0.02\n",
      "BIM         : clean_acc=1.00 robust_acc=0.00 sec=0.10\n",
      "- targeted  : clean_acc=1.00 robust_acc=0.00 sec=0.10\n",
      "RFGSM       : clean_acc=1.00 robust_acc=0.00 sec=0.09\n",
      "- targeted  : clean_acc=1.00 robust_acc=0.00 sec=0.09\n",
      "PGD         : clean_acc=1.00 robust_acc=0.00 sec=0.10\n",
      "- targeted  : clean_acc=1.00 robust_acc=0.20 sec=0.10\n",
      "EOTPGD      : clean_acc=1.00 robust_acc=0.00 sec=0.19\n",
      "- targeted  : clean_acc=1.00 robust_acc=0.20 sec=0.19\n",
      "FFGSM       : clean_acc=1.00 robust_acc=0.20 sec=0.01\n",
      "- targeted  : clean_acc=1.00 robust_acc=0.20 sec=0.01\n",
      "TPGD        : clean_acc=1.00 robust_acc=0.40 sec=0.10\n",
      "MIFGSM      : clean_acc=1.00 robust_acc=0.00 sec=0.10\n",
      "- targeted  : clean_acc=1.00 robust_acc=0.20 sec=0.10\n",
      "UPGD        : clean_acc=1.00 robust_acc=0.00 sec=0.10\n",
      "- targeted  : clean_acc=1.00 robust_acc=0.00 sec=0.10\n",
      "APGD        : clean_acc=1.00 robust_acc=0.00 sec=0.13\n",
      "APGDT       : clean_acc=1.00 robust_acc=0.00 sec=0.15\n",
      "DIFGSM      : clean_acc=1.00 robust_acc=0.00 sec=0.10\n",
      "- targeted  : clean_acc=1.00 robust_acc=0.00 sec=0.10\n",
      "TIFGSM      : clean_acc=1.00 robust_acc=0.20 sec=0.10\n",
      "- targeted  : clean_acc=1.00 robust_acc=0.00 sec=0.10\n",
      "Jitter      : clean_acc=1.00 robust_acc=0.00 sec=0.12\n",
      "- targeted  : clean_acc=1.00 robust_acc=0.20 sec=0.12\n",
      "NIFGSM      : clean_acc=1.00 robust_acc=0.00 sec=0.10\n",
      "- targeted  : clean_acc=1.00 robust_acc=0.40 sec=0.10\n",
      "PGDRS       : clean_acc=1.00 robust_acc=1.00 sec=0.25\n",
      "- targeted  : clean_acc=1.00 robust_acc=1.00 sec=0.25\n",
      "SINIFGSM    : clean_acc=1.00 robust_acc=0.20 sec=0.49\n",
      "- targeted  : clean_acc=1.00 robust_acc=0.40 sec=0.49\n",
      "VMIFGSM     : clean_acc=1.00 robust_acc=0.00 sec=0.57\n",
      "- targeted  : clean_acc=1.00 robust_acc=0.20 sec=0.57\n",
      "VNIFGSM     : clean_acc=1.00 robust_acc=0.00 sec=0.58\n",
      "- targeted  : clean_acc=1.00 robust_acc=0.00 sec=0.58\n",
      "SPSA        : clean_acc=1.00 robust_acc=1.00 sec=0.48\n",
      "- targeted  : clean_acc=1.00 robust_acc=1.00 sec=0.48\n",
      "JSMA        : clean_acc=1.00 robust_acc=1.00 sec=0.00\n",
      "CW          : clean_acc=1.00 robust_acc=0.00 sec=0.55\n",
      "- targeted  : clean_acc=1.00 robust_acc=0.40 sec=0.55\n",
      "PGDL2       : clean_acc=1.00 robust_acc=0.00 sec=0.10\n",
      "- targeted  : clean_acc=1.00 robust_acc=0.00 sec=0.10\n",
      "DeepFool    : clean_acc=1.00 robust_acc=0.00 sec=0.55\n",
      "PGDRSL2     : clean_acc=1.00 robust_acc=1.00 sec=0.25\n",
      "- targeted  : clean_acc=1.00 robust_acc=1.00 sec=0.25\n",
      "SparseFool  : clean_acc=1.00 robust_acc=1.00 sec=6.12\n",
      "OnePixel    : clean_acc=1.00 robust_acc=1.00 sec=0.52\n",
      "- targeted  : clean_acc=1.00 robust_acc=1.00 sec=0.52\n",
      "Pixle       : clean_acc=1.00 robust_acc=0.20 sec=2.48\n",
      "- targeted  : clean_acc=1.00 robust_acc=0.20 sec=2.48\n",
      "FAB         : clean_acc=1.00 robust_acc=0.00 sec=0.82\n",
      "- targeted  : clean_acc=1.00 robust_acc=0.20 sec=0.82\n",
      "AutoAttack  : clean_acc=1.00 robust_acc=0.00 sec=0.15\n",
      "Square      : clean_acc=1.00 robust_acc=0.00 sec=1.69\n",
      "- targeted  : clean_acc=1.00 robust_acc=0.00 sec=1.69\n"
     ]
    }
   ],
   "source": [
    "for atk_class in [atk_class for atk_class in torchattacks.__all__ if atk_class not in torchattacks.__wrapper__]:\n",
    "    test_atks_on_cifar10(atk_class=atk_class,\n",
    "                         device='cuda',\n",
    "                         model_dir='../demo/models/',\n",
    "                         data_dir='../demo/data/')"
   ]
  }
 ],
 "metadata": {
  "kernelspec": {
   "display_name": "Python 3",
   "language": "python",
   "name": "python3"
  },
  "language_info": {
   "codemirror_mode": {
    "name": "ipython",
    "version": 3
   },
   "file_extension": ".py",
   "mimetype": "text/x-python",
   "name": "python",
   "nbconvert_exporter": "python",
   "pygments_lexer": "ipython3",
   "version": "3.8.8"
  }
 },
 "nbformat": 4,
 "nbformat_minor": 5
}
